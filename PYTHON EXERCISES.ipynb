{
 "cells": [
  {
   "attachments": {},
   "cell_type": "markdown",
   "metadata": {},
   "source": [
    "## Question one\n",
    "1. Given trna='AAGGGCTTAGCTTAATTAAAGTGGCTGATTTGCGTTCAGTTGATGCAGAGTGGGGTTTTGCAGTCCTTA', Calculate the % GC and % AT content in the trna sequence   \n",
    "- A_count=trna.count('A')   \n",
    "- C_count=trna.count('C')   \n",
    "- G_count=trna.count('G')   \n",
    "- T_count=trna.count('T')"
   ]
  },
  {
   "cell_type": "code",
   "execution_count": 14,
   "metadata": {},
   "outputs": [
    {
     "name": "stdout",
     "output_type": "stream",
     "text": [
      "The length of our trna sequence is 69 nucleotides\n",
      "The percentage GC for our sequence is 30\n",
      "The percentage AT for our sequence is 56\n",
      "15\n",
      "9\n",
      "21\n",
      "24\n",
      "21\n",
      "39\n"
     ]
    }
   ],
   "source": [
    "#This question requires us to calculate the percentage GC and AT content in our trna sequence.\n",
    "\n",
    "#Step one- counting GC and AT content\n",
    "\n",
    "trna = 'AAGGGCTTAGCTTAATTAAAGTGGCTGATTTGCGTTCAGTTGATGCAGAGTGGGGTTTTGCAGTCCTTA'\n",
    "#Getting the length of trna\n",
    "len(trna)\n",
    "print(\"The length of our trna sequence is %d nucleotides\" % (len(trna)))\n",
    "##Finding the total GC and AT counts\n",
    "GC_count = ((trna.count('G'))+(trna.count('c')))\n",
    "AT_count = ((trna.count('A'))+(trna.count('T')))\n",
    "#Getting the percentages\n",
    "GC = ((GC_count)/(len(trna)))*100\n",
    "AT = ((AT_count)/(len(trna)))*100\n",
    "print('The percentage GC for our sequence is %d'% GC) \n",
    "print('The percentage AT for our sequence is %d'% AT)\n",
    "\n",
    "\n",
    "A_count=trna.count('A')   \n",
    "C_count=trna.count('C')   \n",
    "G_count=trna.count('G')   \n",
    "T_count=trna.count('T')\n",
    "print(A_count)\n",
    "print(C_count)\n",
    "print(G_count)\n",
    "print(T_count)\n",
    "print(GC_count)\n",
    "print(AT_count)"
   ]
  },
  {
   "attachments": {},
   "cell_type": "markdown",
   "metadata": {},
   "source": [
    "## Question two\n",
    "1. Given the following amino acid sequence (MNKMDLVADVAEKTDLSKAKATEVIDAVFA), find the first, last and the 5th amino acids in the sequence. \n",
    "2. The above amino acid is a bacterial restriction enzyme that recognizes \"TCCGGA\". Find the first restriction site in the following sequence: AAAAATCCCGAGGCGGCTATATAGGGCTCCGGAGGCGTAATATAAAA"
   ]
  },
  {
   "cell_type": "code",
   "execution_count": 16,
   "metadata": {},
   "outputs": [
    {
     "name": "stdout",
     "output_type": "stream",
     "text": [
      "The first amino acid is M \n",
      " The last amino acid is A \n",
      " The fifth amino_acid is D\n"
     ]
    }
   ],
   "source": [
    "#Question one requires us to use slicing methods to find the required amino acids\n",
    "\n",
    "aa = 'MNKMDLVADVAEKTDLSKAKATEVIDAVFA'\n",
    "first_aa = aa[0]\n",
    "last_aa = aa[-1]\n",
    "fifth_aa = aa[4]\n",
    "print(\"The first amino acid is %s\"%first_aa,\n",
    "      '\\n','The last amino acid is %s'% last_aa,\n",
    "      '\\n','The fifth amino_acid is %s'% fifth_aa)"
   ]
  },
  {
   "cell_type": "code",
   "execution_count": 19,
   "metadata": {},
   "outputs": [
    {
     "data": {
      "text/plain": [
       "28"
      ]
     },
     "execution_count": 19,
     "metadata": {},
     "output_type": "execute_result"
    }
   ],
   "source": [
    "##Question two requires us to find the first recognition site in our sequence\n",
    "seq = ' AAAAATCCCGAGGCGGCTATATAGGGCTCCGGAGGCGTAATATAAAA' \n",
    "#using the find() function to locate TCCGGA in our sequence\n",
    "seq.find('TCCGGA')"
   ]
  },
  {
   "attachments": {},
   "cell_type": "markdown",
   "metadata": {},
   "source": [
    "## Question 3\n",
    "Given the DNA sequence CGCCTAAATAGCCTCGCGGAGCCTTATGTCATACTCGTCCT find the k-mer(3-mer) with the highest frequency"
   ]
  },
  {
   "cell_type": "code",
   "execution_count": 22,
   "metadata": {},
   "outputs": [
    {
     "data": {
      "text/plain": [
       "['CGC', 'GCC', 'CCT', 'CTA', 'TAA', 'AAA', 'AAT', 'ATA', 'TAG', 'AGC']"
      ]
     },
     "execution_count": 22,
     "metadata": {},
     "output_type": "execute_result"
    }
   ],
   "source": [
    "#The above question wants us to divide our sequence into all the possible 3's and find out the 3-mer with highest frequency\n",
    "\n",
    "#Step 1\n",
    "dna = 'CGCCTAAATAGCCTCGCGGAGCCTTATGTCATACTCGTCCT'\n",
    "\n",
    "step = 0\n",
    "dna_list = [] #create an empty list\n",
    "while step <= len(dna)-3:\n",
    "    dna_list.append(dna[step:step+3])\n",
    "    step = step+1\n",
    "dna_list[0:10]"
   ]
  },
  {
   "cell_type": "code",
   "execution_count": 27,
   "metadata": {},
   "outputs": [
    {
     "data": {
      "text/plain": [
       "{'CGC': 2,\n",
       " 'GCC': 3,\n",
       " 'CCT': 4,\n",
       " 'CTA': 1,\n",
       " 'TAA': 1,\n",
       " 'AAA': 1,\n",
       " 'AAT': 1,\n",
       " 'ATA': 2,\n",
       " 'TAG': 1,\n",
       " 'AGC': 2,\n",
       " 'CTC': 2,\n",
       " 'TCG': 2,\n",
       " 'GCG': 1,\n",
       " 'CGG': 1,\n",
       " 'GGA': 1,\n",
       " 'GAG': 1,\n",
       " 'CTT': 1,\n",
       " 'TTA': 1,\n",
       " 'TAT': 1,\n",
       " 'ATG': 1,\n",
       " 'TGT': 1,\n",
       " 'GTC': 2,\n",
       " 'TCA': 1,\n",
       " 'CAT': 1,\n",
       " 'TAC': 1,\n",
       " 'ACT': 1,\n",
       " 'CGT': 1,\n",
       " 'TCC': 1}"
      ]
     },
     "execution_count": 27,
     "metadata": {},
     "output_type": "execute_result"
    }
   ],
   "source": [
    "#Step 2 involves creating a dictionary that will count the frequency of the 3mers\n",
    "\n",
    "dict_dna = {}\n",
    "for k in dna_list:\n",
    "\n",
    "  dict_dna[k] = dna_list.count(k)\n",
    "dict_dna\n",
    "#max_count = max(dict_dna.values())\n",
    "#max_count"
   ]
  },
  {
   "cell_type": "code",
   "execution_count": 20,
   "metadata": {},
   "outputs": [
    {
     "data": {
      "text/plain": [
       "['CGCCT',\n",
       " 'GCCTA',\n",
       " 'CCTAA',\n",
       " 'CTAAA',\n",
       " 'TAAAT',\n",
       " 'AAATA',\n",
       " 'AATAG',\n",
       " 'ATAGC',\n",
       " 'TAGCC',\n",
       " 'AGCCT']"
      ]
     },
     "execution_count": 20,
     "metadata": {},
     "output_type": "execute_result"
    }
   ],
   "source": [
    "##Creating 5mers from our sequence\n",
    "seq = 'CGCCTAAATAGCCTCGCGGAGCCTTATGTCATACTCGTCCT'\n",
    "#step 1- creating a list with 5mers\n",
    "\n",
    "step = 0\n",
    "seq_list= []#creating an empty list\n",
    "\n",
    "while step <= len(seq)-5:\n",
    "    seq_list.append(seq[step:step+5])\n",
    "    step = step+1\n",
    "seq_list[0:10]\n"
   ]
  },
  {
   "cell_type": "code",
   "execution_count": 30,
   "metadata": {},
   "outputs": [
    {
     "data": {
      "text/plain": [
       "dict_keys(['CGCCT', 'GCCTA', 'CCTAA', 'CTAAA', 'TAAAT', 'AAATA', 'AATAG', 'ATAGC', 'TAGCC', 'AGCCT', 'GCCTC', 'CCTCG', 'CTCGC', 'TCGCG', 'CGCGG', 'GCGGA', 'CGGAG', 'GGAGC', 'GAGCC', 'GCCTT', 'CCTTA', 'CTTAT', 'TTATG', 'TATGT', 'ATGTC', 'TGTCA', 'GTCAT', 'TCATA', 'CATAC', 'ATACT', 'TACTC', 'ACTCG', 'CTCGT', 'TCGTC', 'CGTCC', 'GTCCT'])"
      ]
     },
     "execution_count": 30,
     "metadata": {},
     "output_type": "execute_result"
    }
   ],
   "source": [
    "##Creating a dictionary to count the highest 5 mer\n",
    "seq_dict = {}\n",
    "for k in seq_list:\n",
    "    seq_dict[k] = seq_list.count(k)\n",
    "seq_dict.keys()"
   ]
  },
  {
   "attachments": {},
   "cell_type": "markdown",
   "metadata": {},
   "source": [
    "## Question 4\n",
    "\n",
    "1. Create a while loop that starts with x = 0 and increments x until x is equal to 5. Each iteration should print to the console.\n",
    "2. Repeat the previous problem, but the loop will skip printing x = 5 to the console but will print values of x from 6 to 10.\n",
    "3. Create a for loop that prints values from 4 to 10 to the console."
   ]
  },
  {
   "cell_type": "code",
   "execution_count": 30,
   "metadata": {},
   "outputs": [
    {
     "name": "stdout",
     "output_type": "stream",
     "text": [
      "0\n",
      "1\n",
      "2\n",
      "3\n",
      "4\n",
      "5\n"
     ]
    }
   ],
   "source": [
    "#Question one requires us to create a  while loop that counts x to 5\n",
    "\n",
    "x = 0\n",
    "while x<=5:\n",
    "    print(x)\n",
    "    x+=1\n",
    "    "
   ]
  },
  {
   "cell_type": "code",
   "execution_count": 33,
   "metadata": {},
   "outputs": [
    {
     "name": "stdout",
     "output_type": "stream",
     "text": [
      "0\n",
      "1\n",
      "2\n",
      "3\n",
      "4\n",
      "6\n",
      "7\n",
      "8\n",
      "9\n",
      "10\n"
     ]
    }
   ],
   "source": [
    "#Question 2 requires us to skip 5 and print the rest\n",
    "\n",
    "x = 0\n",
    "while x <= 10:\n",
    "    if x == 5:\n",
    "        x+=1\n",
    "        continue\n",
    "    else:\n",
    "      print(x)\n",
    "    x+=1"
   ]
  },
  {
   "cell_type": "code",
   "execution_count": 16,
   "metadata": {},
   "outputs": [
    {
     "name": "stdout",
     "output_type": "stream",
     "text": [
      "4\n",
      "5\n",
      "6\n",
      "7\n",
      "8\n",
      "9\n",
      "10\n"
     ]
    }
   ],
   "source": [
    "#Question 3, this question requires us to create a loop that prints 4 t0 10 to the console\n",
    "\n",
    "x = 4\n",
    "while x <= 10:\n",
    "    print(x)\n",
    "    x+=1\n",
    "#return(x)\n"
   ]
  },
  {
   "cell_type": "code",
   "execution_count": 18,
   "metadata": {},
   "outputs": [
    {
     "name": "stdout",
     "output_type": "stream",
     "text": [
      "4\n",
      "5\n",
      "6\n",
      "7\n",
      "9\n",
      "10\n"
     ]
    }
   ],
   "source": [
    "##Trying the above answer but when it skips 8\n",
    "\n",
    "x = 4\n",
    "while x <= 10:\n",
    "    if x==8:\n",
    "        x+=1\n",
    "        continue\n",
    "    else:\n",
    "        print(x)\n",
    "        x+=1\n"
   ]
  },
  {
   "attachments": {},
   "cell_type": "markdown",
   "metadata": {},
   "source": [
    " ## Question 5\n",
    " \n",
    " Write a function `areatriangle(b,h)` to compute the area of a triangle: formula is `area = .5*b*h`. Output should look like: \n",
    " \n",
    " `The area of a triangle of base 3 and height 5 is 7.5`"
   ]
  },
  {
   "cell_type": "code",
   "execution_count": 3,
   "metadata": {},
   "outputs": [],
   "source": [
    "##The  above quetion requires us to write a function that will compute the area of a triangle.\n",
    "\n",
    "def areatriangle(b,h):\n",
    "    '''This function calculates the area of a triangle'''\n",
    "    area = 0.5*b*h\n",
    "    return area"
   ]
  },
  {
   "cell_type": "code",
   "execution_count": 13,
   "metadata": {},
   "outputs": [
    {
     "name": "stdout",
     "output_type": "stream",
     "text": [
      "The area of a triangle of base 3 and height 5 is 7 centimeters squared\n"
     ]
    }
   ],
   "source": [
    "area = areatriangle(3,5)\n",
    "print(\"The area of a triangle of base 3 and height 5 is %d centimeters squared\"% area)\n"
   ]
  },
  {
   "cell_type": "code",
   "execution_count": 12,
   "metadata": {},
   "outputs": [
    {
     "name": "stdout",
     "output_type": "stream",
     "text": [
      "The area of a triangle with base 10 and height 15 is 75 centimeters squared\n"
     ]
    }
   ],
   "source": [
    "##Calculating the area of a triangle with base 10 and height 15\n",
    "areatriangle(10,15)\n",
    "print(\"The area of a triangle with base 10 and height 15 is %d centimeters squared\"% areatriangle(10,15))"
   ]
  },
  {
   "attachments": {},
   "cell_type": "markdown",
   "metadata": {},
   "source": [
    "# Question 6\n",
    "Write a function `celsius_to_fahrenheit(temp)` to convert Celsius to Fahrentheit temperature. The formula is `(9/5) times temp plus 32`. Print the output in the form: \n",
    " \n",
    "`The Celsius temperature 50.0 is equivalent to 122.0 degrees Fahrenheit.`"
   ]
  },
  {
   "cell_type": "code",
   "execution_count": 7,
   "metadata": {},
   "outputs": [],
   "source": [
    "## The above question requires to create a function that can convert celsius to fahrenheit\n",
    "\n",
    "def celsius_to_fahrenheit(temp):\n",
    "    conv = (((9/5)*temp)+32)\n",
    "    return(conv)"
   ]
  },
  {
   "cell_type": "code",
   "execution_count": 9,
   "metadata": {},
   "outputs": [
    {
     "name": "stdout",
     "output_type": "stream",
     "text": [
      "The Celsius temperature 50.0 is equivalent to 122 degrees Fahrenheit\n"
     ]
    }
   ],
   "source": [
    "## converting 50.0 celsius to fahrenheit\n",
    "\n",
    "celsius_to_fahrenheit(50.0)\n",
    "print('The Celsius temperature 50.0 is equivalent to %d degrees Fahrenheit'% celsius_to_fahrenheit(50.0))"
   ]
  },
  {
   "cell_type": "code",
   "execution_count": 10,
   "metadata": {},
   "outputs": [
    {
     "name": "stdout",
     "output_type": "stream",
     "text": [
      "Water boils at 212 Fahrenheit\n"
     ]
    }
   ],
   "source": [
    "##Additional example conversion of Celsius 100 to Fahrenheit\n",
    "\n",
    "celsius_to_fahrenheit(100)\n",
    "print(\"Water boils at %d Fahrenheit\"% celsius_to_fahrenheit(100))"
   ]
  }
 ],
 "metadata": {
  "kernelspec": {
   "display_name": "base",
   "language": "python",
   "name": "python3"
  },
  "language_info": {
   "codemirror_mode": {
    "name": "ipython",
    "version": 3
   },
   "file_extension": ".py",
   "mimetype": "text/x-python",
   "name": "python",
   "nbconvert_exporter": "python",
   "pygments_lexer": "ipython3",
   "version": "3.9.13"
  },
  "orig_nbformat": 4
 },
 "nbformat": 4,
 "nbformat_minor": 2
}
