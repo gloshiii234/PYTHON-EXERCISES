{
 "cells": [
  {
   "attachments": {},
   "cell_type": "markdown",
   "metadata": {},
   "source": [
    "## Question1 \n",
    "Write a function `trapez()` that computes the area of a trapezoid. Here is the formula: `A = (1/2)(b1+b2)h`. In the formula b1 is the length of one of the bases, b2 the other. The height is h and the area is A. Basically, this takes the average of the two bases times the height. For a rectangle b1 = b2, so this reduces to b1*h. This means that you can do a pretty good test of the correctness of your function using a rectangle (that way you can compute the answer in your head). Use input statements to ask for the bases and the height.\n",
    "Convert these input strings to real numbers using `float()`. Print the output nicely EXACTLY like mine below.\n",
    "\n",
    "Tip: Be careful that your output on the test case below is exactly as shown so that the testing function judges your output correctly.  The testing function does not look at your input statements, so you don't have to use my input prompts if you don't want to. However, testing function will enter the three inputs in the order shown. See the other test run below.\n",
    "\n",
    "```  \n",
    "trapez()\n",
    "Enter the length of one of the bases: 3\n",
    "Enter the length of the other base: 4\n",
    "Enter the height: 8\n",
    "The area of a trapezoid with bases 3.0 and 4.0 and height 8.0 is 28.0\n",
    "\n",
    "\n",
    "Another test run. In grading, expect different input numbers to be used.\n",
    "\n",
    "trapez()\n",
    "Enter the length of one of the bases: 10\n",
    "Enter the length of the other base: 11\n",
    "Enter the height: 12\n",
    "The area of a trapezoid with bases 10.0 and 11.0 and height 12.0 is 126.0\n"
   ]
  },
  {
   "cell_type": "code",
   "execution_count": 6,
   "metadata": {},
   "outputs": [],
   "source": [
    "##Note that we use float function because use of input returns a string\n",
    "def trapez():\n",
    "    '''This function finds the area of a trapezoid'''\n",
    "    a = float(input(\"Enter the length of one of the bases:\"))\n",
    "    b = float(input(\"Enter the length of the other bases:\"))\n",
    "    c = float(input(\"Enter the height:\"))\n",
    "    A = round((1/2)*(a+b)*c,2)\n",
    "    print(\"The area of a trapezoid with bases\",a ,\"and\",b,\"and height\",c, \"is\",A)"
   ]
  },
  {
   "cell_type": "code",
   "execution_count": 4,
   "metadata": {},
   "outputs": [
    {
     "name": "stdout",
     "output_type": "stream",
     "text": [
      "The area of a trapezoid with bases 3.0 and 4.0 and height 8.0 is 28.0\n"
     ]
    }
   ],
   "source": [
    "##Testing the function for bases:3,4 and height 8\n",
    "trapez()"
   ]
  },
  {
   "cell_type": "code",
   "execution_count": 7,
   "metadata": {},
   "outputs": [
    {
     "name": "stdout",
     "output_type": "stream",
     "text": [
      "The area of a trapezoid with bases 10.0 and 11.0 and height 12.0 is 126.0\n"
     ]
    }
   ],
   "source": [
    "##Second test run with bases:10,11 and height 12\n",
    "trapez()"
   ]
  },
  {
   "attachments": {},
   "cell_type": "markdown",
   "metadata": {},
   "source": [
    "Write a function `diner_waitress()` that asks for you order. First start an empty list, call it order. Then use a `while loop and an input()` statement to gather the order. Continue in the while loop until the customer says `that's all`. One way to end the loop is to use `break` to break out of the loop when `that's all` is entered. Recall that you can add to a list by using the list's .append() method; suppose that your list is called order. You are going to have to input one food at a time and append it to the order list. Then print out the order. Here is my run:  \n",
    "```  \n",
    "diner_waitress()\n",
    "\n",
    "Hello, I'll be your waitress. What will you have?\n",
    "\n",
    "menu item: eggs\n",
    "menu item: bacon\n",
    "menu item: toast\n",
    "menu item: jelly\n",
    "menu item: that's all\n",
    "\n",
    "You've ordered:\n",
    "['eggs', 'bacon', 'toast', 'jelly']"
   ]
  },
  {
   "cell_type": "code",
   "execution_count": 12,
   "metadata": {},
   "outputs": [],
   "source": [
    "def diner_waitress():\n",
    "    print(\"Hello, i'll be your waitress. What will you have?\")\n",
    "\n",
    "    order = []\n",
    "    while True:\n",
    "        item = input('Menu item:')\n",
    "        if item == \"that's all\":\n",
    "            break\n",
    "        order.append(item)\n",
    "    print(\"You've ordered :%s\"% order)"
   ]
  },
  {
   "cell_type": "code",
   "execution_count": 13,
   "metadata": {},
   "outputs": [
    {
     "name": "stdout",
     "output_type": "stream",
     "text": [
      "Hello, i'll be your waitress. What will you have?\n",
      "You've ordered :['burger', 'meat', 'yellows']\n"
     ]
    }
   ],
   "source": [
    "diner_waitress()"
   ]
  }
 ],
 "metadata": {
  "kernelspec": {
   "display_name": "base",
   "language": "python",
   "name": "python3"
  },
  "language_info": {
   "codemirror_mode": {
    "name": "ipython",
    "version": 3
   },
   "file_extension": ".py",
   "mimetype": "text/x-python",
   "name": "python",
   "nbconvert_exporter": "python",
   "pygments_lexer": "ipython3",
   "version": "3.9.13"
  },
  "orig_nbformat": 4
 },
 "nbformat": 4,
 "nbformat_minor": 2
}
