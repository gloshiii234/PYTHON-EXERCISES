{
 "cells": [
  {
   "attachments": {},
   "cell_type": "markdown",
   "metadata": {},
   "source": [
    "Write a function `runner()` that sets a variable lis = list(range(20,30)) and does all of the following, each on a separate line: \n",
    "\n",
    "(a) print the element of lis with the index 3  \n",
    "(b) print lis itself  \n",
    "(c) write a 'for' loop that prints out every element of lis. Recall that len() will give you the length of such a data collection if you need that. Use `end=\" \"` to put one space between the elements of the list lis.  Allow the extra space at the end of the list to stand, don't make a special case of it.\n",
    "    \n",
    "Test run:\n",
    "```  \n",
    "runner()\n",
    "23\n",
    "[20, 21, 22, 23, 24, 25, 26, 27, 28, 29]\n",
    "20 21 22 23 24 25 26 27 28 29 "
   ]
  },
  {
   "cell_type": "code",
   "execution_count": 9,
   "metadata": {},
   "outputs": [
    {
     "name": "stdout",
     "output_type": "stream",
     "text": [
      "23\n",
      "[20, 21, 22, 23, 24, 25, 26, 27, 28, 29]\n",
      "20 21 22 23 24 25 26 27 28 29 "
     ]
    }
   ],
   "source": [
    "def runner():\n",
    "    lis = list(range(20,30))\n",
    "    print(lis[3])\n",
    "    print(lis)\n",
    "    for i in lis:\n",
    "        print(i, end=' ')\n",
    "runner()"
   ]
  },
  {
   "cell_type": "code",
   "execution_count": 11,
   "metadata": {},
   "outputs": [],
   "source": [
    "##Editing the code so that it can be run on any range of choice\n",
    "\n",
    "def runner(x,y):\n",
    "    lis = list(range(x,y))\n",
    "    print(lis[3])\n",
    "    print(lis)\n",
    "    for i in lis:\n",
    "        print(i, end=' ')\n",
    "    return(runner)\n"
   ]
  },
  {
   "cell_type": "code",
   "execution_count": 12,
   "metadata": {},
   "outputs": [
    {
     "name": "stdout",
     "output_type": "stream",
     "text": [
      "13\n",
      "[10, 11, 12, 13, 14, 15, 16, 17, 18, 19, 20, 21, 22, 23, 24, 25, 26, 27, 28, 29]\n",
      "10 11 12 13 14 15 16 17 18 19 20 21 22 23 24 25 26 27 28 29 "
     ]
    },
    {
     "data": {
      "text/plain": [
       "<function __main__.runner(x, y)>"
      ]
     },
     "execution_count": 12,
     "metadata": {},
     "output_type": "execute_result"
    }
   ],
   "source": [
    "##Trying the code with another range\n",
    "\n",
    "runner(10,30)"
   ]
  },
  {
   "attachments": {},
   "cell_type": "markdown",
   "metadata": {},
   "source": [
    "Let's do a small simulation. Suppose that you rolled a die repeatedly. Each time that you roll the die you get a integer from 1 to 6, the number of pips on the die. Use `random.randint(a,b)` to simulate rolling a die 10 times and printout the 10 outcomes. The function random.`randint(a,b)` will generate an integer (whole number) between the integers a and b inclusive. Remember each outcome is 1, 2, 3, 4, 5, or 6, so make sure that you can get all of these outcomes and none other. Print the list, one item to a line so that there are 10 lines as in the example run.  Make sure that it has 10 items and they are all in the range 1 through 6.  Here is one of my runs. In the problem below I ask you to set the seed to 171 for the benefit of the reproducibility. In this example, that wasn't done and so your numbers will be different.  Note that the seed must be set BEFORE randint is used.\n",
    "\n",
    "```  \n",
    "dice()\n",
    "4\n",
    "5\n",
    "3\n",
    "1\n",
    "4\n",
    "3\n",
    "5\n",
    "1\n",
    "6\n",
    "3"
   ]
  },
  {
   "cell_type": "code",
   "execution_count": 16,
   "metadata": {},
   "outputs": [
    {
     "name": "stdout",
     "output_type": "stream",
     "text": [
      "5\n",
      "4\n",
      "4\n",
      "1\n",
      "5\n",
      "4\n",
      "6\n",
      "2\n",
      "4\n",
      "3\n"
     ]
    }
   ],
   "source": [
    "import random\n",
    "\n",
    "def dice_simulation():\n",
    "    random.seed(171)\n",
    "    outcomes =[]\n",
    "    for i in range(10):\n",
    "        outcome = random.randint(1,6)\n",
    "        outcomes.append(outcome)\n",
    "    for outcome in outcomes:\n",
    "        print(outcome)\n",
    "dice_simulation()\n"
   ]
  }
 ],
 "metadata": {
  "kernelspec": {
   "display_name": "base",
   "language": "python",
   "name": "python3"
  },
  "language_info": {
   "codemirror_mode": {
    "name": "ipython",
    "version": 3
   },
   "file_extension": ".py",
   "mimetype": "text/x-python",
   "name": "python",
   "nbconvert_exporter": "python",
   "pygments_lexer": "ipython3",
   "version": "3.9.13"
  },
  "orig_nbformat": 4
 },
 "nbformat": 4,
 "nbformat_minor": 2
}
