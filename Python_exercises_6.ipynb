{
 "cells": [
  {
   "attachments": {},
   "cell_type": "markdown",
   "metadata": {},
   "source": [
    "##Exercise one\n",
    "\n",
    "Heron's formula for computing the area of a triangle with sides a, b, and c is as follows. Let `s = .5(a + b + c)` --- that is, 1/2 of the perimeter of the triangle. Then the area is the square root of `s(s-a)(s-b)(s-c)`. You can compute the square root of x by `x**.5` (raise x to the 1/2 power). Use an input statement to get the length of the sides. Don't forget to convert this input to a real number using float(). Adjust your output to be just like what you see below. Here is a run of my program:\n",
    "\n",
    "```  \n",
    "heron()\n",
    "\n",
    "Enter length of side one: 9\n",
    "Enter length of side two: 12\n",
    "Enter length of side three: 15\n",
    "\n",
    "Area of a triangle with sides 9.0 12.0 15.0 is 54.0"
   ]
  },
  {
   "cell_type": "code",
   "execution_count": 1,
   "metadata": {},
   "outputs": [],
   "source": [
    "def heron():\n",
    "    '''This function calculates the area of a triangle using heron's formula'''\n",
    "    a = float(input(\"Enter length of one side:\"))##(We use float function because outputs of input function are mainly strings)\n",
    "    b = float(input('Enter the lenght of side two:'))\n",
    "    c = float(input('Enter lenght of side three:'))\n",
    "    s = 0.5*(a+b+c)\n",
    "    d = ((s*(s-a))*(s-b)*(s-c))\n",
    "    A = d**0.5\n",
    "    print(\"The area of a triangle with sides\",a,b,c,'is',A)\n",
    "    return(heron)\n",
    "              "
   ]
  },
  {
   "cell_type": "code",
   "execution_count": 2,
   "metadata": {},
   "outputs": [
    {
     "name": "stdout",
     "output_type": "stream",
     "text": [
      "The area of a triangle with sides 9.0 12.0 15.0 is 54.0\n"
     ]
    },
    {
     "data": {
      "text/plain": [
       "<function __main__.heron()>"
      ]
     },
     "execution_count": 2,
     "metadata": {},
     "output_type": "execute_result"
    }
   ],
   "source": [
    "##Determing the area of a triangle with sides 9,12,15\n",
    "heron()"
   ]
  },
  {
   "cell_type": "code",
   "execution_count": 4,
   "metadata": {},
   "outputs": [
    {
     "name": "stdout",
     "output_type": "stream",
     "text": [
      "The area of a triangle with sides 1.0 3.0 4.0 is 0.0\n"
     ]
    },
    {
     "data": {
      "text/plain": [
       "<function __main__.heron()>"
      ]
     },
     "execution_count": 4,
     "metadata": {},
     "output_type": "execute_result"
    }
   ],
   "source": [
    "##Determining area of a triangle with sides 1,3,4\n",
    "heron()"
   ]
  },
  {
   "attachments": {},
   "cell_type": "markdown",
   "metadata": {},
   "source": [
    "## Exercise 2\n",
    "The following list gives the hourly temperature during a 24 hour day. Write a function, that will take such a list and compute 3 things: average temperature, high (maximum temperature), and low (minimum temperature) for the day.  I will test with a different set of temperatures, so don't pick out the low or the high and code it into your program. This should work for other hourly_temp lists as well. This can be done by looping (iterating) through the list. I suggest you not write it all at once. You might write a function that computes just one of these, say average, then improve it to handle another, say maximum, etc. Sample run using the list hourly_temp. \n",
    "\n",
    "Note that the testing function will use a different hourly list.  Be sure that you function works on this list and test it on at least one other list of your own construction. Note also, that the list the grader uses may not have the same number of items as this one.\n",
    "\n",
    "\n",
    "hourly_temp  = [40.0, 39.0, 37.0, 34.0, 33.0, 34.0, 36.0, 37.0, 38.0, 39.0, \\\n",
    "               40.0, 41.0, 44.0, 45.0, 47.0, 48.0, 45.0, 42.0, 39.0, 37.0, \\\n",
    "               36.0, 35.0, 33.0, 32.0]\n",
    "\n",
    "\n",
    "```  \n",
    "weather(hourly_temp)\n",
    "Average: 38.791666666666664\n",
    "High: 48.0\n",
    "Low: 32.0"
   ]
  },
  {
   "cell_type": "code",
   "execution_count": 5,
   "metadata": {},
   "outputs": [
    {
     "name": "stdout",
     "output_type": "stream",
     "text": [
      "Average: 38.791666666666664\n",
      "High: 48.0\n",
      "Low: 32.0\n"
     ]
    }
   ],
   "source": [
    "def weather(hourly_temp):\n",
    "\n",
    "    Average = sum(hourly_temp)/len(hourly_temp)\n",
    "    High = max(hourly_temp)\n",
    "    Low = min(hourly_temp)\n",
    "\n",
    "    print('Average:',Average)\n",
    "    print('High:',High)\n",
    "    print('Low:',Low)\n",
    "\n",
    "hourly_temp =  [40.0, 39.0, 37.0, 34.0, 33.0, 34.0, 36.0, 37.0, 38.0, 39.0,\n",
    "               40.0, 41.0, 44.0, 45.0, 47.0, 48.0, 45.0, 42.0, 39.0, 37.0,\n",
    "               36.0, 35.0, 33.0, 32.0]\n",
    "weather(hourly_temp)"
   ]
  },
  {
   "cell_type": "code",
   "execution_count": 7,
   "metadata": {},
   "outputs": [
    {
     "name": "stdout",
     "output_type": "stream",
     "text": [
      "Average: 78.28571428571429\n",
      "High: 145\n",
      "Low: 12\n"
     ]
    }
   ],
   "source": [
    "##Creating a new list and passing it to our function\n",
    "\n",
    "x = [12,56,32,90,145,123,90]\n",
    "weather(x)"
   ]
  },
  {
   "attachments": {},
   "cell_type": "markdown",
   "metadata": {},
   "source": [
    "# Exercise 3\n",
    "Write a function that will convert a date from one format to another. Specifically, `06/10/2016` should convert to `June 17, 2016`.  Actually, you will input the 6, the 17, and the 2016 as separate integers (numbers) and the function will assemble and print the date as June 17, 2016.  I suggest that you create a tuple months = (\"January\", \"February\", \"March\", ...) to store the names of the months.  Then it is easy to access the name February as months[1] and so on.\n",
    "\n",
    "Here is printout of my run.\n",
    "\n",
    "```  \n",
    "calen(6,17,2016)\n",
    "June 17, 2016\n"
   ]
  },
  {
   "cell_type": "code",
   "execution_count": 9,
   "metadata": {},
   "outputs": [
    {
     "name": "stdout",
     "output_type": "stream",
     "text": [
      "June 17,2016\n"
     ]
    }
   ],
   "source": [
    "def calen(month,day,year):\n",
    "    '''This function converts dates from one format to another'''\n",
    "    months = (\"Jan\",\"Feb\",\"March\",\"April\",\"May\",\"June\",\"July\")\n",
    "    month_name = months[month -1]\n",
    "    date = f\"{month_name} {day},{year}\"\n",
    "    print(date)\n",
    "calen(6,17,2016)"
   ]
  },
  {
   "cell_type": "code",
   "execution_count": 13,
   "metadata": {},
   "outputs": [
    {
     "name": "stdout",
     "output_type": "stream",
     "text": [
      "2003:MARCH:3\n",
      "The converted date is 2003:MARCH:3\n"
     ]
    }
   ],
   "source": [
    "##Changing the format\n",
    "\n",
    "def calen_1(month,day,year):\n",
    "    month = (\"JAN\",\"FEB\",'MARCH')\n",
    "    month_name = month[2]\n",
    "    date = f'{year}:{month_name}:{day}'\n",
    "    print(date)\n",
    "    print(\"The converted date is\",date)\n",
    "calen_1(3,3,2003)"
   ]
  }
 ],
 "metadata": {
  "kernelspec": {
   "display_name": "base",
   "language": "python",
   "name": "python3"
  },
  "language_info": {
   "codemirror_mode": {
    "name": "ipython",
    "version": 3
   },
   "file_extension": ".py",
   "mimetype": "text/x-python",
   "name": "python",
   "nbconvert_exporter": "python",
   "pygments_lexer": "ipython3",
   "version": "3.9.13"
  },
  "orig_nbformat": 4
 },
 "nbformat": 4,
 "nbformat_minor": 2
}
